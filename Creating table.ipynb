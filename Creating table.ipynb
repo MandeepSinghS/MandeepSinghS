{
 "cells": [
  {
   "cell_type": "code",
   "execution_count": 1,
   "metadata": {},
   "outputs": [],
   "source": [
    "import pandas as pd\n",
    "import mysql.connector"
   ]
  },
  {
   "cell_type": "code",
   "execution_count": 2,
   "metadata": {},
   "outputs": [
    {
     "data": {
      "text/html": [
       "<div>\n",
       "<style scoped>\n",
       "    .dataframe tbody tr th:only-of-type {\n",
       "        vertical-align: middle;\n",
       "    }\n",
       "\n",
       "    .dataframe tbody tr th {\n",
       "        vertical-align: top;\n",
       "    }\n",
       "\n",
       "    .dataframe thead th {\n",
       "        text-align: right;\n",
       "    }\n",
       "</style>\n",
       "<table border=\"1\" class=\"dataframe\">\n",
       "  <thead>\n",
       "    <tr style=\"text-align: right;\">\n",
       "      <th></th>\n",
       "      <th>employee_no</th>\n",
       "      <th>employee_name</th>\n",
       "      <th>department</th>\n",
       "      <th>active</th>\n",
       "    </tr>\n",
       "  </thead>\n",
       "  <tbody>\n",
       "    <tr>\n",
       "      <th>0</th>\n",
       "      <td>1</td>\n",
       "      <td>Ethan Miller</td>\n",
       "      <td>Finance and Accounting Department</td>\n",
       "      <td>True</td>\n",
       "    </tr>\n",
       "    <tr>\n",
       "      <th>1</th>\n",
       "      <td>2</td>\n",
       "      <td>Olivia Davis</td>\n",
       "      <td>Research and Development Division</td>\n",
       "      <td>True</td>\n",
       "    </tr>\n",
       "    <tr>\n",
       "      <th>2</th>\n",
       "      <td>3</td>\n",
       "      <td>Mason Rodriguez</td>\n",
       "      <td>Research and Development Division</td>\n",
       "      <td>True</td>\n",
       "    </tr>\n",
       "    <tr>\n",
       "      <th>3</th>\n",
       "      <td>4</td>\n",
       "      <td>Ava Thompson</td>\n",
       "      <td>Research and Development Division</td>\n",
       "      <td>True</td>\n",
       "    </tr>\n",
       "    <tr>\n",
       "      <th>4</th>\n",
       "      <td>5</td>\n",
       "      <td>Liam Hernandez</td>\n",
       "      <td>Human Resources Department</td>\n",
       "      <td>True</td>\n",
       "    </tr>\n",
       "  </tbody>\n",
       "</table>\n",
       "</div>"
      ],
      "text/plain": [
       "   employee_no    employee_name                         department  active\n",
       "0            1     Ethan Miller  Finance and Accounting Department    True\n",
       "1            2     Olivia Davis  Research and Development Division    True\n",
       "2            3  Mason Rodriguez  Research and Development Division    True\n",
       "3            4     Ava Thompson  Research and Development Division    True\n",
       "4            5   Liam Hernandez         Human Resources Department    True"
      ]
     },
     "execution_count": 2,
     "metadata": {},
     "output_type": "execute_result"
    }
   ],
   "source": [
    "df_data = pd.read_csv(r\"C:\\Users\\Shiman\\OneDrive\\Desktop\\sample.csv\")\n",
    "df_data.head()"
   ]
  },
  {
   "cell_type": "code",
   "execution_count": 3,
   "metadata": {},
   "outputs": [
    {
     "name": "stdout",
     "output_type": "stream",
     "text": [
      "(1, 'Ethan Miller')\n",
      "(2, 'Olivia Davis')\n",
      "(3, 'Mason Rodriguez')\n",
      "(4, 'Ava Thompson')\n",
      "(5, 'Liam Hernandez')\n"
     ]
    }
   ],
   "source": [
    "for index , rows in df_data.head().iterrows():\n",
    "    print((rows['employee_no'],rows['employee_name']))"
   ]
  },
  {
   "cell_type": "code",
   "execution_count": 4,
   "metadata": {},
   "outputs": [],
   "source": [
    "connection = mysql.connector.Connect(database ='codewithmandeep',host = 'localhost', user = 'root', password = '@Mandeep1712')\n",
    "\n",
    "#Creating a cursor\n",
    "cursor = connection.cursor()\n",
    "\n",
    "schema_name = 'codewithmandeep'\n",
    "table_name =  'output_table'\n",
    "\n",
    "#Create table in mysql database\n",
    "creating_table = f''' \n",
    "CREATE TABLE {schema_name}.{table_name} (column1 INT , column2 VARCHAR(100));\n",
    "'''\n",
    "\n",
    "cursor.execute(creating_table)"
   ]
  },
  {
   "cell_type": "code",
   "execution_count": 5,
   "metadata": {},
   "outputs": [
    {
     "name": "stdout",
     "output_type": "stream",
     "text": [
      "Code run sucessfully\n"
     ]
    }
   ],
   "source": [
    "#Inserting data into mysqltable\n",
    "\n",
    "insert_data_query = f''' \n",
    "INSERT INTO {schema_name}.{table_name} (column1 , column2) VALUES (%s, %s)\n",
    "'''\n",
    "\n",
    "for index , rows in df_data.iterrows():\n",
    "    \n",
    "    values = (rows['employee_no'],rows['employee_name'])\n",
    "    # print(values)\n",
    "    cursor.execute(insert_data_query,values)\n",
    "\n",
    "print('Code run sucessfully')"
   ]
  },
  {
   "cell_type": "code",
   "execution_count": 6,
   "metadata": {},
   "outputs": [],
   "source": [
    "# Commit the changes\n",
    "connection.commit()\n",
    "\n",
    "cursor.close()\n",
    "connection.close()"
   ]
  }
 ],
 "metadata": {
  "kernelspec": {
   "display_name": "Python 3",
   "language": "python",
   "name": "python3"
  },
  "language_info": {
   "codemirror_mode": {
    "name": "ipython",
    "version": 3
   },
   "file_extension": ".py",
   "mimetype": "text/x-python",
   "name": "python",
   "nbconvert_exporter": "python",
   "pygments_lexer": "ipython3",
   "version": "3.12.1"
  }
 },
 "nbformat": 4,
 "nbformat_minor": 2
}
