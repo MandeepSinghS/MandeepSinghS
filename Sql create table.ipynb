{
 "cells": [
  {
   "cell_type": "code",
   "execution_count": 3,
   "metadata": {},
   "outputs": [],
   "source": [
    "import pandas as pd\n",
    "import mysql.connector"
   ]
  },
  {
   "cell_type": "code",
   "execution_count": 4,
   "metadata": {},
   "outputs": [
    {
     "name": "stdout",
     "output_type": "stream",
     "text": [
      "Command run sucessfully\n"
     ]
    }
   ],
   "source": [
    "#Create a Mysql connection\n",
    "connection = mysql.connector.connect(host = 'localhost', user='root', database='codewithmandeep',password = '@Mandeep1712')\n",
    "\n",
    "#Creating a cursor\n",
    "cusor = connection.cursor()\n",
    "\n",
    "#Create a table\n",
    "\n",
    "table_creation_query = ''' \n",
    "CREATE TABLE CLASS10 (ROLL_NUMBER INT AUTO_INCREMENT PRIMARY KEY,\n",
    "NAME VARCHAR(255)\n",
    "MATCH INT\n",
    "SCIENCE INT\n",
    "ENGLISH INT\n",
    ")\n",
    "'''\n",
    "\n",
    "#Commit changes\n",
    "connection.commit()\n",
    "\n",
    "#Close curson and connection\n",
    "\n",
    "connection.close()\n",
    "cusor.close()\n",
    "print('Command run sucessfully')\n"
   ]
  }
 ],
 "metadata": {
  "kernelspec": {
   "display_name": "Python 3",
   "language": "python",
   "name": "python3"
  },
  "language_info": {
   "codemirror_mode": {
    "name": "ipython",
    "version": 3
   },
   "file_extension": ".py",
   "mimetype": "text/x-python",
   "name": "python",
   "nbconvert_exporter": "python",
   "pygments_lexer": "ipython3",
   "version": "3.12.1"
  }
 },
 "nbformat": 4,
 "nbformat_minor": 2
}
