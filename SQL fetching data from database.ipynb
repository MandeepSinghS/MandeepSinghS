{
 "cells": [
  {
   "cell_type": "code",
   "execution_count": 15,
   "metadata": {},
   "outputs": [],
   "source": [
    "import pandas as pd\n",
    "import mysql.connector"
   ]
  },
  {
   "cell_type": "code",
   "execution_count": 11,
   "metadata": {},
   "outputs": [
    {
     "name": "stdout",
     "output_type": "stream",
     "text": [
      "Connection with SQL: True\n"
     ]
    }
   ],
   "source": [
    "#Creating connection\n",
    "connection = mysql.connector.connect(host = 'localhost', password = '@Mandeep1712', user = 'root', database = 'codewithmandeep')\n",
    "\n",
    "#Create cursor to interact with the sql\n",
    "cursor = connection.cursor()\n",
    "\n",
    "table_name = 'codewithmandeep.employee'\n",
    "\n",
    "sql_query = f\"Select * from {table_name}\"\n",
    "\n",
    "#Executing cursor\n",
    "\n",
    "print('Connection with SQL:', connection.is_connected())\n",
    "cursor.execute(sql_query)\n",
    "\n",
    "rows = cursor.fetchall()"
   ]
  },
  {
   "cell_type": "code",
   "execution_count": 13,
   "metadata": {},
   "outputs": [
    {
     "data": {
      "text/plain": [
       "True"
      ]
     },
     "execution_count": 13,
     "metadata": {},
     "output_type": "execute_result"
    }
   ],
   "source": [
    "#Closing connection and cursor\n",
    "connection.close()\n",
    "cursor.close()\n"
   ]
  },
  {
   "cell_type": "code",
   "execution_count": 17,
   "metadata": {},
   "outputs": [
    {
     "data": {
      "text/html": [
       "<div>\n",
       "<style scoped>\n",
       "    .dataframe tbody tr th:only-of-type {\n",
       "        vertical-align: middle;\n",
       "    }\n",
       "\n",
       "    .dataframe tbody tr th {\n",
       "        vertical-align: top;\n",
       "    }\n",
       "\n",
       "    .dataframe thead th {\n",
       "        text-align: right;\n",
       "    }\n",
       "</style>\n",
       "<table border=\"1\" class=\"dataframe\">\n",
       "  <thead>\n",
       "    <tr style=\"text-align: right;\">\n",
       "      <th></th>\n",
       "      <th>0</th>\n",
       "      <th>1</th>\n",
       "      <th>2</th>\n",
       "      <th>3</th>\n",
       "    </tr>\n",
       "  </thead>\n",
       "  <tbody>\n",
       "    <tr>\n",
       "      <th>0</th>\n",
       "      <td>1</td>\n",
       "      <td>Ethan Miller</td>\n",
       "      <td>Finance and Accounting Department</td>\n",
       "      <td>TRUE</td>\n",
       "    </tr>\n",
       "    <tr>\n",
       "      <th>1</th>\n",
       "      <td>2</td>\n",
       "      <td>Olivia Davis</td>\n",
       "      <td>Research and Development Division</td>\n",
       "      <td>TRUE</td>\n",
       "    </tr>\n",
       "    <tr>\n",
       "      <th>2</th>\n",
       "      <td>3</td>\n",
       "      <td>Mason Rodriguez</td>\n",
       "      <td>Research and Development Division</td>\n",
       "      <td>TRUE</td>\n",
       "    </tr>\n",
       "    <tr>\n",
       "      <th>3</th>\n",
       "      <td>4</td>\n",
       "      <td>Ava Thompson</td>\n",
       "      <td>Research and Development Division</td>\n",
       "      <td>TRUE</td>\n",
       "    </tr>\n",
       "    <tr>\n",
       "      <th>4</th>\n",
       "      <td>5</td>\n",
       "      <td>Liam Hernandez</td>\n",
       "      <td>Human Resources Department</td>\n",
       "      <td>TRUE</td>\n",
       "    </tr>\n",
       "    <tr>\n",
       "      <th>...</th>\n",
       "      <td>...</td>\n",
       "      <td>...</td>\n",
       "      <td>...</td>\n",
       "      <td>...</td>\n",
       "    </tr>\n",
       "    <tr>\n",
       "      <th>95</th>\n",
       "      <td>96</td>\n",
       "      <td>Lily Turner</td>\n",
       "      <td>Customer Service Department</td>\n",
       "      <td>TRUE</td>\n",
       "    </tr>\n",
       "    <tr>\n",
       "      <th>96</th>\n",
       "      <td>97</td>\n",
       "      <td>Samuel Harris</td>\n",
       "      <td>Finance and Accounting Department</td>\n",
       "      <td>FALSE</td>\n",
       "    </tr>\n",
       "    <tr>\n",
       "      <th>97</th>\n",
       "      <td>98</td>\n",
       "      <td>Zoey Robinson</td>\n",
       "      <td>Customer Service Department</td>\n",
       "      <td>TRUE</td>\n",
       "    </tr>\n",
       "    <tr>\n",
       "      <th>98</th>\n",
       "      <td>99</td>\n",
       "      <td>Henry Young</td>\n",
       "      <td>Finance and Accounting Department</td>\n",
       "      <td>TRUE</td>\n",
       "    </tr>\n",
       "    <tr>\n",
       "      <th>99</th>\n",
       "      <td>100</td>\n",
       "      <td>Chloe Davis</td>\n",
       "      <td>Marketing and Communications Department</td>\n",
       "      <td>TRUE</td>\n",
       "    </tr>\n",
       "  </tbody>\n",
       "</table>\n",
       "<p>100 rows × 4 columns</p>\n",
       "</div>"
      ],
      "text/plain": [
       "      0                1                                        2      3\n",
       "0     1     Ethan Miller        Finance and Accounting Department   TRUE\n",
       "1     2     Olivia Davis        Research and Development Division   TRUE\n",
       "2     3  Mason Rodriguez        Research and Development Division   TRUE\n",
       "3     4     Ava Thompson        Research and Development Division   TRUE\n",
       "4     5   Liam Hernandez               Human Resources Department   TRUE\n",
       "..  ...              ...                                      ...    ...\n",
       "95   96      Lily Turner              Customer Service Department   TRUE\n",
       "96   97    Samuel Harris        Finance and Accounting Department  FALSE\n",
       "97   98    Zoey Robinson              Customer Service Department   TRUE\n",
       "98   99      Henry Young        Finance and Accounting Department   TRUE\n",
       "99  100      Chloe Davis  Marketing and Communications Department   TRUE\n",
       "\n",
       "[100 rows x 4 columns]"
      ]
     },
     "execution_count": 17,
     "metadata": {},
     "output_type": "execute_result"
    }
   ],
   "source": [
    "df_data = pd.DataFrame(rows, )\n",
    "df_data"
   ]
  }
 ],
 "metadata": {
  "kernelspec": {
   "display_name": "Python 3",
   "language": "python",
   "name": "python3"
  },
  "language_info": {
   "codemirror_mode": {
    "name": "ipython",
    "version": 3
   },
   "file_extension": ".py",
   "mimetype": "text/x-python",
   "name": "python",
   "nbconvert_exporter": "python",
   "pygments_lexer": "ipython3",
   "version": "3.12.1"
  }
 },
 "nbformat": 4,
 "nbformat_minor": 2
}
